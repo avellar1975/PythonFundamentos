{
 "cells": [
  {
   "cell_type": "markdown",
   "metadata": {},
   "source": [
    "# <font color='blue'>Data Science Academy - Python Fundamentos - Capítulo 8</font>\n",
    "\n",
    "#### Autor: Evandro Avellar"
   ]
  },
  {
   "cell_type": "code",
   "execution_count": 30,
   "metadata": {},
   "outputs": [
    {
     "name": "stdout",
     "output_type": "stream",
     "text": [
      "Versão da Linguagem Python Usada Neste Jupyter Notebook: 3.7.9\n"
     ]
    }
   ],
   "source": [
    "# Versão da Linguagem Python\n",
    "from platform import python_version\n",
    "print('Versão da Linguagem Python Usada Neste Jupyter Notebook:', python_version())"
   ]
  },
  {
   "cell_type": "code",
   "execution_count": 31,
   "metadata": {},
   "outputs": [],
   "source": [
    "import numpy as np"
   ]
  },
  {
   "cell_type": "markdown",
   "metadata": {},
   "source": [
    "### Exercícios Sobre Módulos Python Para Análise de Dados"
   ]
  },
  {
   "cell_type": "markdown",
   "metadata": {},
   "source": [
    "### Exercício 1"
   ]
  },
  {
   "cell_type": "markdown",
   "metadata": {},
   "source": [
    "* Crie um array NumPy com 1000000 e uma lista com 1000000.\n",
    "* Multiplique cada elemento do array e da lista por 2 e calcule o tempo de execução com cada um dos objetos (use %time).\n",
    "* Qual objeto oferece melhor performance, array NumPy ou lista?"
   ]
  },
  {
   "cell_type": "code",
   "execution_count": 32,
   "metadata": {},
   "outputs": [
    {
     "data": {
      "text/plain": [
       "1000000"
      ]
     },
     "execution_count": 32,
     "metadata": {},
     "output_type": "execute_result"
    }
   ],
   "source": [
    "vetor = np.arange(1000000)\n",
    "len(vetor)"
   ]
  },
  {
   "cell_type": "code",
   "execution_count": 36,
   "metadata": {},
   "outputs": [
    {
     "data": {
      "text/plain": [
       "1000000"
      ]
     },
     "execution_count": 36,
     "metadata": {},
     "output_type": "execute_result"
    }
   ],
   "source": [
    "lista = list(range(1000000))\n",
    "len(lista)"
   ]
  },
  {
   "cell_type": "code",
   "execution_count": 37,
   "metadata": {},
   "outputs": [
    {
     "name": "stdout",
     "output_type": "stream",
     "text": [
      "Wall time: 4.5 ms\n"
     ]
    }
   ],
   "source": [
    "%time vetor2 = vetor * 2"
   ]
  },
  {
   "cell_type": "code",
   "execution_count": 38,
   "metadata": {},
   "outputs": [
    {
     "name": "stdout",
     "output_type": "stream",
     "text": [
      "Wall time: 193 ms\n"
     ]
    }
   ],
   "source": [
    "%time lista = [x * 2 for x in lista]"
   ]
  },
  {
   "cell_type": "markdown",
   "metadata": {},
   "source": [
    "### Exercício 2"
   ]
  },
  {
   "cell_type": "markdown",
   "metadata": {},
   "source": [
    "* Crie um array de 10 elementos\n",
    "* Altere o valores de todos os elementos dos índices 5 a 8 para 0"
   ]
  },
  {
   "cell_type": "code",
   "execution_count": 39,
   "metadata": {},
   "outputs": [
    {
     "data": {
      "text/plain": [
       "array([0, 1, 2, 3, 4, 0, 0, 0, 0, 9])"
      ]
     },
     "execution_count": 39,
     "metadata": {},
     "output_type": "execute_result"
    }
   ],
   "source": [
    "vetor3 = np.arange(10)\n",
    "vetor3[5:9] = 0\n",
    "vetor3"
   ]
  },
  {
   "cell_type": "markdown",
   "metadata": {},
   "source": [
    "### Exercício 3"
   ]
  },
  {
   "cell_type": "markdown",
   "metadata": {},
   "source": [
    "* Crie um array de 3 dimensões e imprima a dimensão 1 "
   ]
  },
  {
   "cell_type": "code",
   "execution_count": 40,
   "metadata": {},
   "outputs": [
    {
     "name": "stdout",
     "output_type": "stream",
     "text": [
      "O array cubo tem 3 dimensões.\n"
     ]
    },
    {
     "data": {
      "text/plain": [
       "array([[[60,  6, 34],\n",
       "        [10, 94, 87],\n",
       "        [59, 75, 95]],\n",
       "\n",
       "       [[45, 69, 51],\n",
       "        [23, 76, 16],\n",
       "        [87, 39, 17]],\n",
       "\n",
       "       [[13, 41, 25],\n",
       "        [83, 44, 18],\n",
       "        [12, 26, 99]],\n",
       "\n",
       "       [[20, 45, 95],\n",
       "        [47, 98, 24],\n",
       "        [14, 52, 62]]])"
      ]
     },
     "execution_count": 40,
     "metadata": {},
     "output_type": "execute_result"
    }
   ],
   "source": [
    "cubo = np.random.randint(1, 100, (4, 3, 3))\n",
    "print(f'O array cubo tem {cubo.ndim} dimensões.')\n",
    "cubo"
   ]
  },
  {
   "cell_type": "code",
   "execution_count": 41,
   "metadata": {},
   "outputs": [
    {
     "name": "stdout",
     "output_type": "stream",
     "text": [
      "O array vetor tem 1 dimensão.\n"
     ]
    },
    {
     "data": {
      "text/plain": [
       "array([45, 69, 51])"
      ]
     },
     "execution_count": 41,
     "metadata": {},
     "output_type": "execute_result"
    }
   ],
   "source": [
    "vetor = cubo[1,0]\n",
    "print(f'O array vetor tem {vetor.ndim} dimensão.')\n",
    "vetor"
   ]
  },
  {
   "cell_type": "markdown",
   "metadata": {},
   "source": [
    "### Exercício 4"
   ]
  },
  {
   "cell_type": "markdown",
   "metadata": {},
   "source": [
    "* Crie um array de duas dimensões (matriz).\n",
    "* Imprima os elementos da terceira linha da matriz\n",
    "* Imprima todos os elementos da primeira e segunda linhas e segunda e terceira colunas"
   ]
  },
  {
   "cell_type": "code",
   "execution_count": 42,
   "metadata": {},
   "outputs": [
    {
     "name": "stdout",
     "output_type": "stream",
     "text": [
      "O array matriz tem 2 dimensões.\n"
     ]
    },
    {
     "data": {
      "text/plain": [
       "array([[38, 35, 43],\n",
       "       [70, 77, 79],\n",
       "       [37, 55, 34],\n",
       "       [19, 70, 41]])"
      ]
     },
     "execution_count": 42,
     "metadata": {},
     "output_type": "execute_result"
    }
   ],
   "source": [
    "# Array de duas dimensões\n",
    "matriz = np.random.randint(1, 100, (4, 3))\n",
    "print(f'O array matriz tem {matriz.ndim} dimensões.')\n",
    "matriz"
   ]
  },
  {
   "cell_type": "code",
   "execution_count": 43,
   "metadata": {},
   "outputs": [
    {
     "data": {
      "text/plain": [
       "array([37, 55, 34])"
      ]
     },
     "execution_count": 43,
     "metadata": {},
     "output_type": "execute_result"
    }
   ],
   "source": [
    "# Terceira linha\n",
    "matriz[2]"
   ]
  },
  {
   "cell_type": "code",
   "execution_count": 44,
   "metadata": {},
   "outputs": [
    {
     "data": {
      "text/plain": [
       "array([[35, 43],\n",
       "       [77, 79]])"
      ]
     },
     "execution_count": 44,
     "metadata": {},
     "output_type": "execute_result"
    }
   ],
   "source": [
    "# Todos os elementos da primeira e segunda linhas e segunda e terceira colunas\n",
    "matriz[0:2, 1:3]"
   ]
  },
  {
   "cell_type": "markdown",
   "metadata": {},
   "source": [
    "### Exercício 5"
   ]
  },
  {
   "cell_type": "code",
   "execution_count": 45,
   "metadata": {},
   "outputs": [
    {
     "data": {
      "text/plain": [
       "array([[ 0,  1,  2,  3,  4],\n",
       "       [ 5,  6,  7,  8,  9],\n",
       "       [10, 11, 12, 13, 14]])"
      ]
     },
     "execution_count": 45,
     "metadata": {},
     "output_type": "execute_result"
    }
   ],
   "source": [
    "# Calcule a transposta da matriz abaixo\n",
    "arr = np.arange(15).reshape((3, 5))\n",
    "arr"
   ]
  },
  {
   "cell_type": "code",
   "execution_count": 46,
   "metadata": {},
   "outputs": [
    {
     "data": {
      "text/plain": [
       "array([[ 0,  5, 10],\n",
       "       [ 1,  6, 11],\n",
       "       [ 2,  7, 12],\n",
       "       [ 3,  8, 13],\n",
       "       [ 4,  9, 14]])"
      ]
     },
     "execution_count": 46,
     "metadata": {},
     "output_type": "execute_result"
    }
   ],
   "source": [
    "arr.transpose()"
   ]
  },
  {
   "cell_type": "markdown",
   "metadata": {},
   "source": [
    "### Exercício 6"
   ]
  },
  {
   "cell_type": "code",
   "execution_count": 47,
   "metadata": {
    "collapsed": true
   },
   "outputs": [],
   "source": [
    "# Considere os 3 arrays abaixo\n",
    "# Retorne o valor do array xarr se o valor for True no array cond. \n",
    "# Caso contrário, retorne o valor do array yarr.\n",
    "xarr = np.array([1.1, 1.2, 1.3, 1.4, 1.5])\n",
    "yarr = np.array([2.1, 2.2, 2.3, 2.4, 2.5])\n",
    "cond = np.array([True, False, True, True, False])"
   ]
  },
  {
   "cell_type": "code",
   "execution_count": 48,
   "metadata": {},
   "outputs": [
    {
     "name": "stdout",
     "output_type": "stream",
     "text": [
      "1.1\n",
      "2.2\n",
      "1.3\n",
      "1.4\n",
      "2.5\n"
     ]
    }
   ],
   "source": [
    "grupo = zip(xarr, yarr, cond)\n",
    "for i in grupo:\n",
    "    if i[2]:\n",
    "        print(i[0])\n",
    "    else:\n",
    "        print(i[1])"
   ]
  },
  {
   "cell_type": "markdown",
   "metadata": {},
   "source": [
    "### Exercício 7"
   ]
  },
  {
   "cell_type": "code",
   "execution_count": 49,
   "metadata": {},
   "outputs": [],
   "source": [
    "import pandas as pd"
   ]
  },
  {
   "cell_type": "code",
   "execution_count": 97,
   "metadata": {},
   "outputs": [],
   "source": [
    "# Crie um array A com 10 elementos e salve o array em disco com a extensão npy\n",
    "# Depois carregue o array do disco no array B"
   ]
  },
  {
   "cell_type": "code",
   "execution_count": 50,
   "metadata": {},
   "outputs": [
    {
     "data": {
      "text/plain": [
       "array([31, 42, 57, 28, 45, 59, 41, 58, 16, 28])"
      ]
     },
     "execution_count": 50,
     "metadata": {},
     "output_type": "execute_result"
    }
   ],
   "source": [
    "# Criando array A\n",
    "A = np.random.randint(1, 100, (10,))\n",
    "A\n"
   ]
  },
  {
   "cell_type": "code",
   "execution_count": 51,
   "metadata": {},
   "outputs": [],
   "source": [
    "# Salvando num arquivo\n",
    "np.savetxt('out.npy', A, newline='\\n')"
   ]
  },
  {
   "cell_type": "code",
   "execution_count": 52,
   "metadata": {},
   "outputs": [
    {
     "data": {
      "text/plain": [
       "array([31, 42, 57, 28, 45, 59, 41, 58, 16, 28])"
      ]
     },
     "execution_count": 52,
     "metadata": {},
     "output_type": "execute_result"
    }
   ],
   "source": [
    "# lendo um arquivo e carregando no Array B\n",
    "B = A = np.loadtxt('out.npy', dtype=int) \n",
    "B"
   ]
  },
  {
   "cell_type": "markdown",
   "metadata": {
    "collapsed": true
   },
   "source": [
    "### Exercício 8"
   ]
  },
  {
   "cell_type": "code",
   "execution_count": 53,
   "metadata": {},
   "outputs": [
    {
     "data": {
      "text/plain": [
       "array(['c', 'a', 'd', 'b'], dtype=object)"
      ]
     },
     "execution_count": 53,
     "metadata": {},
     "output_type": "execute_result"
    }
   ],
   "source": [
    "# Considerando a série abaixo, imprima os valores únicos na série\n",
    "obj = pd.Series(['c', 'a', 'd', 'a', 'a', 'b', 'b', 'c', 'c', 'a', 'b'])\n",
    "obj.unique()"
   ]
  },
  {
   "cell_type": "markdown",
   "metadata": {
    "collapsed": true
   },
   "source": [
    "### Exercício 9"
   ]
  },
  {
   "cell_type": "code",
   "execution_count": null,
   "metadata": {},
   "outputs": [],
   "source": [
    "# Considerando o trecho de código que conecta em uma url na internet, imprima o dataframe conforme abaixo.\n",
    "import requests\n",
    "url = 'https://api.github.com/repos/pandas-dev/pandas/issues'\n",
    "resp = requests.get(url)\n",
    "resp"
   ]
  },
  {
   "cell_type": "code",
   "execution_count": 134,
   "metadata": {},
   "outputs": [
    {
     "data": {
      "text/plain": [
       "Index(['url', 'repository_url', 'labels_url', 'comments_url', 'events_url',\n",
       "       'html_url', 'id', 'node_id', 'number', 'title', 'user', 'labels',\n",
       "       'state', 'locked', 'assignee', 'assignees', 'milestone', 'comments',\n",
       "       'created_at', 'updated_at', 'closed_at', 'author_association',\n",
       "       'active_lock_reason', 'draft', 'pull_request', 'body', 'reactions',\n",
       "       'timeline_url', 'performed_via_github_app'],\n",
       "      dtype='object')"
      ]
     },
     "execution_count": 134,
     "metadata": {},
     "output_type": "execute_result"
    }
   ],
   "source": [
    "json_load = resp.json()\n",
    "data3 = pd.DataFrame(json_load)\n",
    "data3.columns"
   ]
  },
  {
   "cell_type": "code",
   "execution_count": 137,
   "metadata": {},
   "outputs": [
    {
     "data": {
      "text/html": [
       "<div>\n",
       "<style scoped>\n",
       "    .dataframe tbody tr th:only-of-type {\n",
       "        vertical-align: middle;\n",
       "    }\n",
       "\n",
       "    .dataframe tbody tr th {\n",
       "        vertical-align: top;\n",
       "    }\n",
       "\n",
       "    .dataframe thead th {\n",
       "        text-align: right;\n",
       "    }\n",
       "</style>\n",
       "<table border=\"1\" class=\"dataframe\">\n",
       "  <thead>\n",
       "    <tr style=\"text-align: right;\">\n",
       "      <th></th>\n",
       "      <th>number</th>\n",
       "      <th>title</th>\n",
       "      <th>labels</th>\n",
       "      <th>state</th>\n",
       "    </tr>\n",
       "  </thead>\n",
       "  <tbody>\n",
       "    <tr>\n",
       "      <th>0</th>\n",
       "      <td>44605</td>\n",
       "      <td>DEP: df.insert not showing warning for allow_d...</td>\n",
       "      <td>[]</td>\n",
       "      <td>open</td>\n",
       "    </tr>\n",
       "    <tr>\n",
       "      <th>1</th>\n",
       "      <td>44604</td>\n",
       "      <td>ASV: reduce overall run time for GroupByMethod...</td>\n",
       "      <td>[{'id': 732775912, 'node_id': 'MDU6TGFiZWw3MzI...</td>\n",
       "      <td>open</td>\n",
       "    </tr>\n",
       "    <tr>\n",
       "      <th>2</th>\n",
       "      <td>44603</td>\n",
       "      <td>BUG: DataFrame eval will not work with 'Timest...</td>\n",
       "      <td>[{'id': 76811, 'node_id': 'MDU6TGFiZWw3NjgxMQ=...</td>\n",
       "      <td>open</td>\n",
       "    </tr>\n",
       "    <tr>\n",
       "      <th>3</th>\n",
       "      <td>44602</td>\n",
       "      <td>BUG: na_value = None in ExtensionDtype causes ...</td>\n",
       "      <td>[{'id': 76811, 'node_id': 'MDU6TGFiZWw3NjgxMQ=...</td>\n",
       "      <td>open</td>\n",
       "    </tr>\n",
       "    <tr>\n",
       "      <th>4</th>\n",
       "      <td>44601</td>\n",
       "      <td>[DON'T MERGE] Try debug CI (test_eval.py)</td>\n",
       "      <td>[]</td>\n",
       "      <td>open</td>\n",
       "    </tr>\n",
       "    <tr>\n",
       "      <th>5</th>\n",
       "      <td>44600</td>\n",
       "      <td>CLN: Remove duplicate skip windows decorators</td>\n",
       "      <td>[{'id': 211029535, 'node_id': 'MDU6TGFiZWwyMTE...</td>\n",
       "      <td>open</td>\n",
       "    </tr>\n",
       "    <tr>\n",
       "      <th>6</th>\n",
       "      <td>44599</td>\n",
       "      <td>BUG: parse_dates=False while passing date_pars...</td>\n",
       "      <td>[]</td>\n",
       "      <td>open</td>\n",
       "    </tr>\n",
       "    <tr>\n",
       "      <th>7</th>\n",
       "      <td>44598</td>\n",
       "      <td>BUG: concat_compat with 2D PeriodArray</td>\n",
       "      <td>[]</td>\n",
       "      <td>open</td>\n",
       "    </tr>\n",
       "    <tr>\n",
       "      <th>8</th>\n",
       "      <td>44597</td>\n",
       "      <td>API/DEPR: int downcasting in DataFrame.where</td>\n",
       "      <td>[{'id': 35818298, 'node_id': 'MDU6TGFiZWwzNTgx...</td>\n",
       "      <td>open</td>\n",
       "    </tr>\n",
       "    <tr>\n",
       "      <th>9</th>\n",
       "      <td>44596</td>\n",
       "      <td>CI: Add single CPU core build for pytest.mark....</td>\n",
       "      <td>[]</td>\n",
       "      <td>open</td>\n",
       "    </tr>\n",
       "    <tr>\n",
       "      <th>10</th>\n",
       "      <td>44594</td>\n",
       "      <td>PERF: improve find_common_type perf for specia...</td>\n",
       "      <td>[{'id': 8935311, 'node_id': 'MDU6TGFiZWw4OTM1M...</td>\n",
       "      <td>open</td>\n",
       "    </tr>\n",
       "    <tr>\n",
       "      <th>11</th>\n",
       "      <td>44590</td>\n",
       "      <td>CI: docstring check failing with Segmentation ...</td>\n",
       "      <td>[]</td>\n",
       "      <td>open</td>\n",
       "    </tr>\n",
       "    <tr>\n",
       "      <th>12</th>\n",
       "      <td>44589</td>\n",
       "      <td>ENH: add indexing syntax to GroupBy.nth()</td>\n",
       "      <td>[{'id': 76812, 'node_id': 'MDU6TGFiZWw3NjgxMg=...</td>\n",
       "      <td>open</td>\n",
       "    </tr>\n",
       "    <tr>\n",
       "      <th>13</th>\n",
       "      <td>44588</td>\n",
       "      <td>BUG: join MultiIndex with overlapping Interval...</td>\n",
       "      <td>[]</td>\n",
       "      <td>open</td>\n",
       "    </tr>\n",
       "    <tr>\n",
       "      <th>14</th>\n",
       "      <td>44587</td>\n",
       "      <td>REF: remove always-True DataFrame._iset_item k...</td>\n",
       "      <td>[]</td>\n",
       "      <td>open</td>\n",
       "    </tr>\n",
       "    <tr>\n",
       "      <th>15</th>\n",
       "      <td>44585</td>\n",
       "      <td>BUG: Series.where with IntervalDtype when no-op</td>\n",
       "      <td>[]</td>\n",
       "      <td>open</td>\n",
       "    </tr>\n",
       "    <tr>\n",
       "      <th>16</th>\n",
       "      <td>44584</td>\n",
       "      <td>CI: No single CPU builds for pytest.mark.singl...</td>\n",
       "      <td>[{'id': 48070600, 'node_id': 'MDU6TGFiZWw0ODA3...</td>\n",
       "      <td>open</td>\n",
       "    </tr>\n",
       "    <tr>\n",
       "      <th>17</th>\n",
       "      <td>44582</td>\n",
       "      <td>BUG: Series.mode with dt64tz or PeriodDtype</td>\n",
       "      <td>[]</td>\n",
       "      <td>open</td>\n",
       "    </tr>\n",
       "    <tr>\n",
       "      <th>18</th>\n",
       "      <td>44581</td>\n",
       "      <td>BUG: Series.view from int64 to datetimelike</td>\n",
       "      <td>[]</td>\n",
       "      <td>open</td>\n",
       "    </tr>\n",
       "    <tr>\n",
       "      <th>19</th>\n",
       "      <td>44580</td>\n",
       "      <td>Deprecate skipna=None for mad</td>\n",
       "      <td>[{'id': 87485152, 'node_id': 'MDU6TGFiZWw4NzQ4...</td>\n",
       "      <td>open</td>\n",
       "    </tr>\n",
       "    <tr>\n",
       "      <th>20</th>\n",
       "      <td>44578</td>\n",
       "      <td>BUG: Series.reset_index not ignoring name with...</td>\n",
       "      <td>[]</td>\n",
       "      <td>open</td>\n",
       "    </tr>\n",
       "    <tr>\n",
       "      <th>21</th>\n",
       "      <td>44576</td>\n",
       "      <td>Holiday rename; Juneteenth `start_date`</td>\n",
       "      <td>[{'id': 76812, 'node_id': 'MDU6TGFiZWw3NjgxMg=...</td>\n",
       "      <td>open</td>\n",
       "    </tr>\n",
       "    <tr>\n",
       "      <th>22</th>\n",
       "      <td>44575</td>\n",
       "      <td>BUG: `name` argument in `Series.reset_index` b...</td>\n",
       "      <td>[{'id': 76811, 'node_id': 'MDU6TGFiZWw3NjgxMQ=...</td>\n",
       "      <td>open</td>\n",
       "    </tr>\n",
       "    <tr>\n",
       "      <th>23</th>\n",
       "      <td>44574</td>\n",
       "      <td>ENH: Juneteenth holiday</td>\n",
       "      <td>[{'id': 76812, 'node_id': 'MDU6TGFiZWw3NjgxMg=...</td>\n",
       "      <td>open</td>\n",
       "    </tr>\n",
       "    <tr>\n",
       "      <th>24</th>\n",
       "      <td>44569</td>\n",
       "      <td>DOC: update shared_docs to clarify groupby wit...</td>\n",
       "      <td>[]</td>\n",
       "      <td>open</td>\n",
       "    </tr>\n",
       "    <tr>\n",
       "      <th>25</th>\n",
       "      <td>44568</td>\n",
       "      <td>ENH: Multiple character separators in to_csv</td>\n",
       "      <td>[{'id': 76812, 'node_id': 'MDU6TGFiZWw3NjgxMg=...</td>\n",
       "      <td>open</td>\n",
       "    </tr>\n",
       "    <tr>\n",
       "      <th>26</th>\n",
       "      <td>44567</td>\n",
       "      <td>DOC: GL01 numpydoc validation</td>\n",
       "      <td>[{'id': 134699, 'node_id': 'MDU6TGFiZWwxMzQ2OT...</td>\n",
       "      <td>open</td>\n",
       "    </tr>\n",
       "    <tr>\n",
       "      <th>27</th>\n",
       "      <td>44564</td>\n",
       "      <td>BUG: DataFrame.shift with axis=1 and mismatche...</td>\n",
       "      <td>[]</td>\n",
       "      <td>open</td>\n",
       "    </tr>\n",
       "    <tr>\n",
       "      <th>28</th>\n",
       "      <td>44562</td>\n",
       "      <td>PERF/BUG: ensure we store contiguous arrays in...</td>\n",
       "      <td>[{'id': 3165546917, 'node_id': 'MDU6TGFiZWwzMT...</td>\n",
       "      <td>open</td>\n",
       "    </tr>\n",
       "    <tr>\n",
       "      <th>29</th>\n",
       "      <td>44559</td>\n",
       "      <td>PERF: avoid copy in concatenate_array_managers...</td>\n",
       "      <td>[{'id': 8935311, 'node_id': 'MDU6TGFiZWw4OTM1M...</td>\n",
       "      <td>open</td>\n",
       "    </tr>\n",
       "  </tbody>\n",
       "</table>\n",
       "</div>"
      ],
      "text/plain": [
       "    number                                              title  \\\n",
       "0    44605  DEP: df.insert not showing warning for allow_d...   \n",
       "1    44604  ASV: reduce overall run time for GroupByMethod...   \n",
       "2    44603  BUG: DataFrame eval will not work with 'Timest...   \n",
       "3    44602  BUG: na_value = None in ExtensionDtype causes ...   \n",
       "4    44601          [DON'T MERGE] Try debug CI (test_eval.py)   \n",
       "5    44600      CLN: Remove duplicate skip windows decorators   \n",
       "6    44599  BUG: parse_dates=False while passing date_pars...   \n",
       "7    44598             BUG: concat_compat with 2D PeriodArray   \n",
       "8    44597       API/DEPR: int downcasting in DataFrame.where   \n",
       "9    44596  CI: Add single CPU core build for pytest.mark....   \n",
       "10   44594  PERF: improve find_common_type perf for specia...   \n",
       "11   44590  CI: docstring check failing with Segmentation ...   \n",
       "12   44589          ENH: add indexing syntax to GroupBy.nth()   \n",
       "13   44588  BUG: join MultiIndex with overlapping Interval...   \n",
       "14   44587  REF: remove always-True DataFrame._iset_item k...   \n",
       "15   44585    BUG: Series.where with IntervalDtype when no-op   \n",
       "16   44584  CI: No single CPU builds for pytest.mark.singl...   \n",
       "17   44582        BUG: Series.mode with dt64tz or PeriodDtype   \n",
       "18   44581        BUG: Series.view from int64 to datetimelike   \n",
       "19   44580                      Deprecate skipna=None for mad   \n",
       "20   44578  BUG: Series.reset_index not ignoring name with...   \n",
       "21   44576            Holiday rename; Juneteenth `start_date`   \n",
       "22   44575  BUG: `name` argument in `Series.reset_index` b...   \n",
       "23   44574                            ENH: Juneteenth holiday   \n",
       "24   44569  DOC: update shared_docs to clarify groupby wit...   \n",
       "25   44568       ENH: Multiple character separators in to_csv   \n",
       "26   44567                      DOC: GL01 numpydoc validation   \n",
       "27   44564  BUG: DataFrame.shift with axis=1 and mismatche...   \n",
       "28   44562  PERF/BUG: ensure we store contiguous arrays in...   \n",
       "29   44559  PERF: avoid copy in concatenate_array_managers...   \n",
       "\n",
       "                                               labels state  \n",
       "0                                                  []  open  \n",
       "1   [{'id': 732775912, 'node_id': 'MDU6TGFiZWw3MzI...  open  \n",
       "2   [{'id': 76811, 'node_id': 'MDU6TGFiZWw3NjgxMQ=...  open  \n",
       "3   [{'id': 76811, 'node_id': 'MDU6TGFiZWw3NjgxMQ=...  open  \n",
       "4                                                  []  open  \n",
       "5   [{'id': 211029535, 'node_id': 'MDU6TGFiZWwyMTE...  open  \n",
       "6                                                  []  open  \n",
       "7                                                  []  open  \n",
       "8   [{'id': 35818298, 'node_id': 'MDU6TGFiZWwzNTgx...  open  \n",
       "9                                                  []  open  \n",
       "10  [{'id': 8935311, 'node_id': 'MDU6TGFiZWw4OTM1M...  open  \n",
       "11                                                 []  open  \n",
       "12  [{'id': 76812, 'node_id': 'MDU6TGFiZWw3NjgxMg=...  open  \n",
       "13                                                 []  open  \n",
       "14                                                 []  open  \n",
       "15                                                 []  open  \n",
       "16  [{'id': 48070600, 'node_id': 'MDU6TGFiZWw0ODA3...  open  \n",
       "17                                                 []  open  \n",
       "18                                                 []  open  \n",
       "19  [{'id': 87485152, 'node_id': 'MDU6TGFiZWw4NzQ4...  open  \n",
       "20                                                 []  open  \n",
       "21  [{'id': 76812, 'node_id': 'MDU6TGFiZWw3NjgxMg=...  open  \n",
       "22  [{'id': 76811, 'node_id': 'MDU6TGFiZWw3NjgxMQ=...  open  \n",
       "23  [{'id': 76812, 'node_id': 'MDU6TGFiZWw3NjgxMg=...  open  \n",
       "24                                                 []  open  \n",
       "25  [{'id': 76812, 'node_id': 'MDU6TGFiZWw3NjgxMg=...  open  \n",
       "26  [{'id': 134699, 'node_id': 'MDU6TGFiZWwxMzQ2OT...  open  \n",
       "27                                                 []  open  \n",
       "28  [{'id': 3165546917, 'node_id': 'MDU6TGFiZWwzMT...  open  \n",
       "29  [{'id': 8935311, 'node_id': 'MDU6TGFiZWw4OTM1M...  open  "
      ]
     },
     "execution_count": 137,
     "metadata": {},
     "output_type": "execute_result"
    }
   ],
   "source": [
    "data3[['number','title','labels','state']]"
   ]
  },
  {
   "cell_type": "markdown",
   "metadata": {},
   "source": [
    "### Exercício 10"
   ]
  },
  {
   "cell_type": "code",
   "execution_count": 1,
   "metadata": {},
   "outputs": [],
   "source": [
    "# Crie um banco de dados no SQLite, crie uma tabela, insira registros, \n",
    "# consulte a tabela e retorne os dados em dataframe do Pandas\n",
    "import sqlite3\n",
    "import random\n",
    "import time\n",
    "import datetime"
   ]
  },
  {
   "cell_type": "code",
   "execution_count": 27,
   "metadata": {},
   "outputs": [],
   "source": [
    "# Criando uma conexão\n",
    "conn = sqlite3.connect('banco_3.db')   \n",
    "\n",
    "# Criando um cursor\n",
    "c = conn.cursor()\n",
    " \n",
    "# Função para criar uma tabela\n",
    "def create_table():\n",
    "    c.execute('CREATE TABLE IF NOT EXISTS produtos(id INTEGER PRIMARY KEY AUTOINCREMENT NOT NULL, date TEXT, '\\\n",
    "              'prod_name TEXT, valor REAL)')\n",
    "    \n",
    "# Usando variáveis para inserir dados    \n",
    "produtos = ['teclado', 'mouse', 'monitor', 'gabinete', 'memória', 'SSD']\n",
    "\n",
    "def data_insert_var():\n",
    "    new_date = datetime.datetime.now()\n",
    "    new_prod_name = random.choice(produtos)\n",
    "    new_valor = random.randrange(50,100)\n",
    "    c.execute(\"INSERT INTO produtos (date, prod_name, valor) VALUES (?, ?, ?)\", \n",
    "              (new_date, new_prod_name, new_valor))\n",
    "    conn.commit()\n",
    "    \n",
    "# Leitura de dados\n",
    "def leitura_todos_dados():\n",
    "    c.execute(\"SELECT * FROM PRODUTOS\")\n",
    "    for linha in c.fetchall():\n",
    "        print(linha)\n",
    "\n",
    "\n",
    "# Cria Data Frame a partir da consulta\n",
    "def cria_data_frame():\n",
    "    c.execute(\"SELECT * FROM PRODUTOS\")\n",
    "    df = pd.DataFrame(c.fetchall())\n",
    "    return df\n"
   ]
  },
  {
   "cell_type": "code",
   "execution_count": 11,
   "metadata": {},
   "outputs": [],
   "source": [
    "# Cria a tabela\n",
    "create_table()"
   ]
  },
  {
   "cell_type": "code",
   "execution_count": 12,
   "metadata": {},
   "outputs": [],
   "source": [
    "for n in range(20):\n",
    "    data_insert_var()"
   ]
  },
  {
   "cell_type": "code",
   "execution_count": 28,
   "metadata": {},
   "outputs": [
    {
     "name": "stdout",
     "output_type": "stream",
     "text": [
      "(1, '2021-11-24 16:25:56.983730', 'monitor', 84.0)\n",
      "(2, '2021-11-24 16:25:57.074294', 'teclado', 51.0)\n",
      "(3, '2021-11-24 16:25:57.118325', 'gabinete', 80.0)\n",
      "(4, '2021-11-24 16:25:57.166859', 'mouse', 79.0)\n",
      "(5, '2021-11-24 16:25:57.224900', 'teclado', 79.0)\n",
      "(6, '2021-11-24 16:25:57.286443', 'teclado', 73.0)\n",
      "(7, '2021-11-24 16:25:57.339480', 'monitor', 53.0)\n",
      "(8, '2021-11-24 16:25:57.397521', 'mouse', 54.0)\n",
      "(9, '2021-11-24 16:25:57.512102', 'mouse', 64.0)\n",
      "(10, '2021-11-24 16:25:57.584154', 'monitor', 65.0)\n",
      "(11, '2021-11-24 16:25:57.718247', 'memória', 85.0)\n",
      "(12, '2021-11-24 16:25:57.877360', 'SSD', 96.0)\n",
      "(13, '2021-11-24 16:25:57.976930', 'memória', 85.0)\n",
      "(14, '2021-11-24 16:25:58.103018', 'SSD', 87.0)\n",
      "(15, '2021-11-24 16:25:58.226605', 'gabinete', 74.0)\n",
      "(16, '2021-11-24 16:25:58.339185', 'SSD', 96.0)\n",
      "(17, '2021-11-24 16:25:58.512806', 'memória', 61.0)\n",
      "(18, '2021-11-24 16:25:58.626886', 'memória', 68.0)\n",
      "(19, '2021-11-24 16:25:58.789501', 'mouse', 97.0)\n",
      "(20, '2021-11-24 16:25:58.954118', 'monitor', 79.0)\n"
     ]
    }
   ],
   "source": [
    "leitura_todos_dados()\n"
   ]
  },
  {
   "cell_type": "code",
   "execution_count": 29,
   "metadata": {},
   "outputs": [
    {
     "data": {
      "text/html": [
       "<div>\n",
       "<style scoped>\n",
       "    .dataframe tbody tr th:only-of-type {\n",
       "        vertical-align: middle;\n",
       "    }\n",
       "\n",
       "    .dataframe tbody tr th {\n",
       "        vertical-align: top;\n",
       "    }\n",
       "\n",
       "    .dataframe thead th {\n",
       "        text-align: right;\n",
       "    }\n",
       "</style>\n",
       "<table border=\"1\" class=\"dataframe\">\n",
       "  <thead>\n",
       "    <tr style=\"text-align: right;\">\n",
       "      <th></th>\n",
       "      <th>0</th>\n",
       "      <th>1</th>\n",
       "      <th>2</th>\n",
       "      <th>3</th>\n",
       "    </tr>\n",
       "  </thead>\n",
       "  <tbody>\n",
       "    <tr>\n",
       "      <th>0</th>\n",
       "      <td>1</td>\n",
       "      <td>2021-11-24 16:25:56.983730</td>\n",
       "      <td>monitor</td>\n",
       "      <td>84.0</td>\n",
       "    </tr>\n",
       "    <tr>\n",
       "      <th>1</th>\n",
       "      <td>2</td>\n",
       "      <td>2021-11-24 16:25:57.074294</td>\n",
       "      <td>teclado</td>\n",
       "      <td>51.0</td>\n",
       "    </tr>\n",
       "    <tr>\n",
       "      <th>2</th>\n",
       "      <td>3</td>\n",
       "      <td>2021-11-24 16:25:57.118325</td>\n",
       "      <td>gabinete</td>\n",
       "      <td>80.0</td>\n",
       "    </tr>\n",
       "    <tr>\n",
       "      <th>3</th>\n",
       "      <td>4</td>\n",
       "      <td>2021-11-24 16:25:57.166859</td>\n",
       "      <td>mouse</td>\n",
       "      <td>79.0</td>\n",
       "    </tr>\n",
       "    <tr>\n",
       "      <th>4</th>\n",
       "      <td>5</td>\n",
       "      <td>2021-11-24 16:25:57.224900</td>\n",
       "      <td>teclado</td>\n",
       "      <td>79.0</td>\n",
       "    </tr>\n",
       "    <tr>\n",
       "      <th>5</th>\n",
       "      <td>6</td>\n",
       "      <td>2021-11-24 16:25:57.286443</td>\n",
       "      <td>teclado</td>\n",
       "      <td>73.0</td>\n",
       "    </tr>\n",
       "    <tr>\n",
       "      <th>6</th>\n",
       "      <td>7</td>\n",
       "      <td>2021-11-24 16:25:57.339480</td>\n",
       "      <td>monitor</td>\n",
       "      <td>53.0</td>\n",
       "    </tr>\n",
       "    <tr>\n",
       "      <th>7</th>\n",
       "      <td>8</td>\n",
       "      <td>2021-11-24 16:25:57.397521</td>\n",
       "      <td>mouse</td>\n",
       "      <td>54.0</td>\n",
       "    </tr>\n",
       "    <tr>\n",
       "      <th>8</th>\n",
       "      <td>9</td>\n",
       "      <td>2021-11-24 16:25:57.512102</td>\n",
       "      <td>mouse</td>\n",
       "      <td>64.0</td>\n",
       "    </tr>\n",
       "    <tr>\n",
       "      <th>9</th>\n",
       "      <td>10</td>\n",
       "      <td>2021-11-24 16:25:57.584154</td>\n",
       "      <td>monitor</td>\n",
       "      <td>65.0</td>\n",
       "    </tr>\n",
       "    <tr>\n",
       "      <th>10</th>\n",
       "      <td>11</td>\n",
       "      <td>2021-11-24 16:25:57.718247</td>\n",
       "      <td>memória</td>\n",
       "      <td>85.0</td>\n",
       "    </tr>\n",
       "    <tr>\n",
       "      <th>11</th>\n",
       "      <td>12</td>\n",
       "      <td>2021-11-24 16:25:57.877360</td>\n",
       "      <td>SSD</td>\n",
       "      <td>96.0</td>\n",
       "    </tr>\n",
       "    <tr>\n",
       "      <th>12</th>\n",
       "      <td>13</td>\n",
       "      <td>2021-11-24 16:25:57.976930</td>\n",
       "      <td>memória</td>\n",
       "      <td>85.0</td>\n",
       "    </tr>\n",
       "    <tr>\n",
       "      <th>13</th>\n",
       "      <td>14</td>\n",
       "      <td>2021-11-24 16:25:58.103018</td>\n",
       "      <td>SSD</td>\n",
       "      <td>87.0</td>\n",
       "    </tr>\n",
       "    <tr>\n",
       "      <th>14</th>\n",
       "      <td>15</td>\n",
       "      <td>2021-11-24 16:25:58.226605</td>\n",
       "      <td>gabinete</td>\n",
       "      <td>74.0</td>\n",
       "    </tr>\n",
       "    <tr>\n",
       "      <th>15</th>\n",
       "      <td>16</td>\n",
       "      <td>2021-11-24 16:25:58.339185</td>\n",
       "      <td>SSD</td>\n",
       "      <td>96.0</td>\n",
       "    </tr>\n",
       "    <tr>\n",
       "      <th>16</th>\n",
       "      <td>17</td>\n",
       "      <td>2021-11-24 16:25:58.512806</td>\n",
       "      <td>memória</td>\n",
       "      <td>61.0</td>\n",
       "    </tr>\n",
       "    <tr>\n",
       "      <th>17</th>\n",
       "      <td>18</td>\n",
       "      <td>2021-11-24 16:25:58.626886</td>\n",
       "      <td>memória</td>\n",
       "      <td>68.0</td>\n",
       "    </tr>\n",
       "    <tr>\n",
       "      <th>18</th>\n",
       "      <td>19</td>\n",
       "      <td>2021-11-24 16:25:58.789501</td>\n",
       "      <td>mouse</td>\n",
       "      <td>97.0</td>\n",
       "    </tr>\n",
       "    <tr>\n",
       "      <th>19</th>\n",
       "      <td>20</td>\n",
       "      <td>2021-11-24 16:25:58.954118</td>\n",
       "      <td>monitor</td>\n",
       "      <td>79.0</td>\n",
       "    </tr>\n",
       "  </tbody>\n",
       "</table>\n",
       "</div>"
      ],
      "text/plain": [
       "     0                           1         2     3\n",
       "0    1  2021-11-24 16:25:56.983730   monitor  84.0\n",
       "1    2  2021-11-24 16:25:57.074294   teclado  51.0\n",
       "2    3  2021-11-24 16:25:57.118325  gabinete  80.0\n",
       "3    4  2021-11-24 16:25:57.166859     mouse  79.0\n",
       "4    5  2021-11-24 16:25:57.224900   teclado  79.0\n",
       "5    6  2021-11-24 16:25:57.286443   teclado  73.0\n",
       "6    7  2021-11-24 16:25:57.339480   monitor  53.0\n",
       "7    8  2021-11-24 16:25:57.397521     mouse  54.0\n",
       "8    9  2021-11-24 16:25:57.512102     mouse  64.0\n",
       "9   10  2021-11-24 16:25:57.584154   monitor  65.0\n",
       "10  11  2021-11-24 16:25:57.718247   memória  85.0\n",
       "11  12  2021-11-24 16:25:57.877360       SSD  96.0\n",
       "12  13  2021-11-24 16:25:57.976930   memória  85.0\n",
       "13  14  2021-11-24 16:25:58.103018       SSD  87.0\n",
       "14  15  2021-11-24 16:25:58.226605  gabinete  74.0\n",
       "15  16  2021-11-24 16:25:58.339185       SSD  96.0\n",
       "16  17  2021-11-24 16:25:58.512806   memória  61.0\n",
       "17  18  2021-11-24 16:25:58.626886   memória  68.0\n",
       "18  19  2021-11-24 16:25:58.789501     mouse  97.0\n",
       "19  20  2021-11-24 16:25:58.954118   monitor  79.0"
      ]
     },
     "execution_count": 29,
     "metadata": {},
     "output_type": "execute_result"
    }
   ],
   "source": [
    "df = cria_data_frame()\n",
    "df"
   ]
  },
  {
   "cell_type": "markdown",
   "metadata": {},
   "source": [
    "# Fim"
   ]
  }
 ],
 "metadata": {
  "kernelspec": {
   "display_name": "Python 3 (ipykernel)",
   "language": "python",
   "name": "python3"
  },
  "language_info": {
   "codemirror_mode": {
    "name": "ipython",
    "version": 3
   },
   "file_extension": ".py",
   "mimetype": "text/x-python",
   "name": "python",
   "nbconvert_exporter": "python",
   "pygments_lexer": "ipython3",
   "version": "3.7.9"
  }
 },
 "nbformat": 4,
 "nbformat_minor": 1
}
